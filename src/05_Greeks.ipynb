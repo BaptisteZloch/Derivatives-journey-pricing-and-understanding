{
 "cells": [
  {
   "attachments": {},
   "cell_type": "markdown",
   "metadata": {},
   "source": [
    "# Hedging (quantities, greeks, and sensivity analysis)\n",
    "## Greeks\n",
    "The main important quantities to be calculated are the so-called hedge parameters (greeks).\n",
    "\n",
    "### Delta\n",
    "Delta: $\\Delta(S, t)$ the of change of the option's value with respect to the asset price $S$. The largest random componennt of the portfolio is eliminated. It basically indicates the number of share to keep with each option issued in order to cope with a loss in the case of option exercise. $$\\Delta=\\frac{\\partial V}{\\partial S}$$"
   ]
  },
  {
   "cell_type": "code",
   "execution_count": null,
   "metadata": {},
   "outputs": [],
   "source": []
  },
  {
   "attachments": {},
   "cell_type": "markdown",
   "metadata": {},
   "source": [
    "### Gamma\n",
    "Gamma: $\\Gamma(S, t)$ the of change of the option's delta with respect to the asset price $S$. If $\\Gamma$ is low it indicated that the portfolio re-balancing needs to happen sometimes. However $\\Gamma$ high indicates a high sensibility to the $\\Delta$ re-balancing happens frequently. $$\\Gamma=\\frac{\\partial \\Delta}{\\partial S}=\\frac{\\partial^2 V}{\\partial S^2}$$\n"
   ]
  },
  {
   "cell_type": "code",
   "execution_count": null,
   "metadata": {},
   "outputs": [],
   "source": []
  },
  {
   "attachments": {},
   "cell_type": "markdown",
   "metadata": {},
   "source": [
    "### Vega\n",
    "Vega: $\\nu(S, t)$ the sensitivity to the change in volatility $\\sigma$. $$\\nu=\\frac{\\partial V}{\\partial\\sigma}$$\n"
   ]
  },
  {
   "cell_type": "code",
   "execution_count": null,
   "metadata": {},
   "outputs": [],
   "source": []
  },
  {
   "attachments": {},
   "cell_type": "markdown",
   "metadata": {},
   "source": [
    "### Rho\n",
    "Rho: $\\rho(S, t)$ the sensitivity to the change in interest rate (risk-free rate) $r$. $$\\nu=\\frac{\\partial V}{\\partial r}$$\n",
    "\n"
   ]
  },
  {
   "cell_type": "code",
   "execution_count": null,
   "metadata": {},
   "outputs": [],
   "source": []
  },
  {
   "attachments": {},
   "cell_type": "markdown",
   "metadata": {},
   "source": [
    "### Theta\n",
    "Theta: $\\theta(S, t)$ the sensitivity to the change in time to maturity $t$. $$\\theta=\\frac{\\partial V}{\\partial t}$$"
   ]
  },
  {
   "cell_type": "code",
   "execution_count": null,
   "metadata": {},
   "outputs": [],
   "source": []
  },
  {
   "attachments": {},
   "cell_type": "markdown",
   "metadata": {},
   "source": [
    "Using greeks we can rewrite the Black-Scholes partial differential equation as : \n",
    "$$\\Theta+\\frac{1}{2}\\sigma^2S^2\\Gamma+rS\\delta-rV=0$$"
   ]
  },
  {
   "attachments": {},
   "cell_type": "markdown",
   "metadata": {},
   "source": [
    "## P&L using greeks\n",
    "\n",
    "$$\\Delta P=\\delta \\times\\Delta S+\\Gamma\\frac{\\Delta S^2}{2}+\\theta\\times\\Delta t+\\nu\\times\\Delta\\sigma+\\rho\\times\\Delta r$$"
   ]
  },
  {
   "attachments": {},
   "cell_type": "markdown",
   "metadata": {},
   "source": [
    "## Greeks at-the-money specific cases (ATM)\n",
    " \n",
    "- The option price for for an at the money the option is : $c=p\\approx0.4Se^{-rT}\\sigma\\sqrt{T}$\n",
    "- When $r=0$ and the option is at the money the option price is : $c=p\\approx S\\sigma \\sqrt{\\frac{T}{2\\pi}}=0.4S\\sigma\\sqrt{T}$\n",
    "- Under the above condition the above formula can give the implied volatility: $\\sigma=2.5\\frac{1}{\\sqrt{T}}\\frac{c}{S}$\n",
    "- $\\delta_c\\approx e^{-rT}(0.5+0.2\\sigma\\sqrt{T})$\n",
    "- $\\delta_p\\approx e^{-rT}(0.2\\sigma\\sqrt{T}-0.5)$\n",
    "- $\\Gamma \\approx\\frac{0.4e^{-rT}}{S\\sigma\\sqrt{T}}$\n",
    "- $V \\approx 0.4Se^{-rT}\\sqrt{T}$"
   ]
  },
  {
   "cell_type": "markdown",
   "metadata": {},
   "source": []
  }
 ],
 "metadata": {
  "language_info": {
   "name": "python"
  },
  "orig_nbformat": 4
 },
 "nbformat": 4,
 "nbformat_minor": 2
}
