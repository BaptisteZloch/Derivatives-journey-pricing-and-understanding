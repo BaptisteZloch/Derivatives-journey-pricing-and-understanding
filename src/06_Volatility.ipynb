{
 "cells": [
  {
   "cell_type": "code",
   "execution_count": null,
   "metadata": {},
   "outputs": [],
   "source": []
  },
  {
   "attachments": {},
   "cell_type": "markdown",
   "metadata": {},
   "source": [
    "# Volatility smile"
   ]
  },
  {
   "cell_type": "code",
   "execution_count": null,
   "metadata": {},
   "outputs": [],
   "source": [
    "from modules.pricings import black_scholes_option_price\n",
    "import numpy as np\n",
    "\n",
    "spot = 100\n",
    "strike = 110\n",
    "r = 0.03\n",
    "tau = 1\n",
    "\n",
    "volatilities = np.linspace(0.01, 0.5, 100)\n",
    "\n",
    "for vol in volatilities:\n",
    "    bs_call_price = black_scholes_option_price(spot, strike, r, tau, vol, \"call\")\n",
    "\n",
    "\n"
   ]
  }
 ],
 "metadata": {
  "kernelspec": {
   "display_name": ".venv",
   "language": "python",
   "name": "python3"
  },
  "language_info": {
   "codemirror_mode": {
    "name": "ipython",
    "version": 3
   },
   "file_extension": ".py",
   "mimetype": "text/x-python",
   "name": "python",
   "nbconvert_exporter": "python",
   "pygments_lexer": "ipython3",
   "version": "3.10.6"
  },
  "orig_nbformat": 4
 },
 "nbformat": 4,
 "nbformat_minor": 2
}
