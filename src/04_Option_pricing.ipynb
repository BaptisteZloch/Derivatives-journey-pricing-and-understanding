{
 "cells": [
  {
   "attachments": {},
   "cell_type": "markdown",
   "metadata": {},
   "source": [
    "# Black-Scholes solution\n",
    "\n",
    "The value of a European call option is:\n",
    "\n",
    "$$\n",
    "C(S_t,t) = N(d_1(t,S(t)))S_t -Ke^{r(T-t)}N(d_2(t,S(t))) \\\\\n",
    "d_1 = \\frac{1}{\\sigma\\sqrt{T-t}}(log\\frac{S(t)}{K}+(r+\\frac{1}{2}\\sigma^2)(T-t)) \\\\\n",
    "d_2 = d_1-\\sigma\\sqrt{T-t} \\\\\n",
    "$$\n",
    "\n",
    "Under the NA0 (No Arbitrage Opportunity) the assumption the **put-call parity** exists as:\n",
    "\n",
    "$$\n",
    "C(S_t,t) - P(S_t,t) = S_t -Ke^{r(T-t)}\\\\\n",
    "$$\n",
    "\n",
    "The value of a European put option is:\n",
    "\n",
    "$$\n",
    "P(S_t,t) =  N(-d_2)PV(K) - N(-d_1)S_t\n",
    "$$\n",
    "\n",
    "$N(.)$ is the cumulative distribution function of the standard normal distribution <br>\n",
    "$K$ is the strike price <br>\n",
    "$T-t$ is the time to maturity (expressed in years)<br>\n",
    "$S_t$ is the spot price of the underlying asset<br>\n",
    "$r$ is the risk-free rate (annual rate, expressed in terms of continuous compounding)<br>\n",
    "$\\sigma$ is the implied volatility of returns of the underlying asset.<br>\n"
   ]
  },
  {
   "cell_type": "code",
   "execution_count": 1,
   "metadata": {},
   "outputs": [],
   "source": [
    "from typing import Literal\n",
    "import numpy as np\n",
    "import scipy.stats as stats\n",
    "\n",
    "from modules.pricings import (\n",
    "    black_scholes_option_price,\n",
    "    from_call_to_put,\n",
    "    from_put_to_call,\n",
    ")"
   ]
  },
  {
   "cell_type": "code",
   "execution_count": 2,
   "metadata": {},
   "outputs": [
    {
     "name": "stdout",
     "output_type": "stream",
     "text": [
      "Call price: $ 6.04\n",
      "Put price using the BS formula: $ 10.68\n",
      "Put price using the put call parity formula: $ 10.68\n"
     ]
    }
   ],
   "source": [
    "call_price = black_scholes_option_price(100, 110, 0.05, 1, 0.2, \"call\")\n",
    "\n",
    "print(f\"Call price: $ {call_price:.2f}\")\n",
    "\n",
    "put_price = black_scholes_option_price(100, 110, 0.05, 1, 0.2, \"put\")\n",
    "print(f\"Put price using the BS formula: $ {put_price:.2f}\")\n",
    "print(\n",
    "    f\"Put price using the put call parity formula: $ {from_call_to_put(call_price,100,110,0.05,1):.2f}\"\n",
    ")"
   ]
  },
  {
   "attachments": {},
   "cell_type": "markdown",
   "metadata": {},
   "source": [
    "# Monte Carlo simulation\n",
    "\n",
    "Given the current asset price at time $0$ is $S_0$, then the asset price at time $T$ can be expressed as:\n",
    "\n",
    "$$\n",
    "S_T = S_0e^{(r- \\frac{\\sigma^2}{2})T  + \\sigma W_T}\n",
    "$$\n",
    "\n",
    "$T$ is the time to maturity<br>\n",
    "$S_t$ is the spot price of the underlying asset<br>\n",
    "$r$ is the risk-free rate (annual rate, expressed in terms of continuous compounding)<br>\n",
    "$\\sigma$ is the volatility of returns of the underlying asset.<br>\n",
    "$W_T$ is the Brownian motion.<br>\n",
    "\n",
    "Where $W_T$ follows the normal distribution with mean $0$ and variance $T$. The pay-off of the call option is $max(S_T−K,0)$ and for the put option is $max(K−ST)$.\n"
   ]
  },
  {
   "cell_type": "code",
   "execution_count": 4,
   "metadata": {},
   "outputs": [],
   "source": [
    "from modules.pricings import monte_carlo_option_price\n"
   ]
  },
  {
   "cell_type": "code",
   "execution_count": 5,
   "metadata": {},
   "outputs": [
    {
     "name": "stdout",
     "output_type": "stream",
     "text": [
      "Call price: $ 6.03 +/- 0.04\n",
      "Put price: $ 6.05 +/- 6.05\n"
     ]
    }
   ],
   "source": [
    "call_price, call_price_std_error = monte_carlo_option_price(\n",
    "    s0=100, k=110, r=0.05, tau=1, sigma=0.2, nb_simulation=100000, option_type=\"call\"\n",
    ")\n",
    "print(f\"Call price: $ {call_price:.2f} +/- {call_price_std_error:.2f}\")\n",
    "put_price, put_price_std_error = monte_carlo_option_price(\n",
    "    s0=100, k=110, r=0.05, tau=1, sigma=0.2, nb_simulation=100000, option_type=\"put\"\n",
    ")\n",
    "print(f\"Put price: $ {put_price:.2f} +/- {put_price:.2f}\")"
   ]
  },
  {
   "attachments": {},
   "cell_type": "markdown",
   "metadata": {},
   "source": [
    "# Comparing Black-Scholes formula to Monte-Carlo simulation\n",
    "\n",
    "## Call options\n"
   ]
  },
  {
   "cell_type": "code",
   "execution_count": 6,
   "metadata": {},
   "outputs": [
    {
     "name": "stdout",
     "output_type": "stream",
     "text": [
      "Black-Scholes call price: $ 6.04\n",
      "Monte-Carlo call price: $ 5.72 +/- 0.35\n"
     ]
    }
   ],
   "source": [
    "bs_call_price = black_scholes_option_price(100, 110, 0.05, 1, 0.2, \"call\")\n",
    "mc_call_price, mc_call_price_std = monte_carlo_option_price(\n",
    "    100, 110, 0.05, 1, 0.2, 1000, \"call\"\n",
    ")\n",
    "\n",
    "print(f\"Black-Scholes call price: $ {bs_call_price:.2f}\")\n",
    "print(f\"Monte-Carlo call price: $ {mc_call_price:.2f} +/- {mc_call_price_std:.2f}\")"
   ]
  },
  {
   "attachments": {},
   "cell_type": "markdown",
   "metadata": {},
   "source": [
    "## Put options\n"
   ]
  },
  {
   "cell_type": "code",
   "execution_count": 7,
   "metadata": {},
   "outputs": [
    {
     "name": "stdout",
     "output_type": "stream",
     "text": [
      "Black-Scholes put price: $ 10.68\n",
      "Monte-Carlo put price: $ 5.96 +/- 0.04\n"
     ]
    }
   ],
   "source": [
    "bs_put_price = black_scholes_option_price(100, 110, 0.05, 1, 0.2, \"put\")\n",
    "mc_put_price, mc_put_price_std = monte_carlo_option_price(\n",
    "    100, 110, 0.05, 1, 0.2, 100000, \"put\"\n",
    ")\n",
    "\n",
    "print(f\"Black-Scholes put price: $ {bs_put_price:.2f}\")\n",
    "print(f\"Monte-Carlo put price: $ {mc_put_price:.2f} +/- {mc_put_price_std:.2f}\")"
   ]
  },
  {
   "attachments": {},
   "cell_type": "markdown",
   "metadata": {},
   "source": [
    "# Using Tensorflow Quanrt\n"
   ]
  },
  {
   "cell_type": "code",
   "execution_count": 3,
   "metadata": {},
   "outputs": [],
   "source": [
    "import matplotlib.pyplot as plt\n",
    "import numpy as np\n",
    "\n",
    "import tensorflow as tf\n",
    "\n",
    "tf.compat.v1.enable_eager_execution()\n",
    "import tf_quant_finance as tff\n",
    "\n",
    "option_price = tff.black_scholes.option_price\n",
    "implied_vol = tff.black_scholes.implied_vol"
   ]
  },
  {
   "cell_type": "code",
   "execution_count": 4,
   "metadata": {},
   "outputs": [
    {
     "data": {
      "text/plain": [
       "<tf.Tensor: shape=(4,), dtype=float64, numpy=array([0.14798729, 0.24216815, 0.74814549, 0.02260333])>"
      ]
     },
     "execution_count": 4,
     "metadata": {},
     "output_type": "execute_result"
    }
   ],
   "source": [
    "# Calculate discount factors (e^-rT)\n",
    "rate = 0.05\n",
    "expiries = np.array([0.5, 1.0, 2.0, 1.3])\n",
    "discount_factors = np.exp(-rate * expiries)\n",
    "# Current value of assets.\n",
    "spots = np.array([0.9, 1.0, 1.1, 0.9])\n",
    "# Forward value of assets at expiry.\n",
    "forwards = spots / discount_factors\n",
    "# Strike prices given by:\n",
    "strikes = np.array([1.0, 2.0, 1.0, 0.5])\n",
    "# Indicate whether options are call (True) or put (False)\n",
    "is_call_options = np.array([True, True, False, False])\n",
    "# The volatilites at which the options are to be priced.\n",
    "volatilities = np.array([0.7, 1.1, 2.0, 0.5])\n",
    "# Calculate the prices given the volatilities and term structure.\n",
    "prices = option_price(\n",
    "    volatilities=volatilities,\n",
    "    strikes=strikes,\n",
    "    expiries=expiries,\n",
    "    forwards=forwards,\n",
    "    discount_factors=discount_factors,\n",
    "    is_call_options=is_call_options,\n",
    ")\n",
    "prices"
   ]
  },
  {
   "cell_type": "code",
   "execution_count": 5,
   "metadata": {},
   "outputs": [
    {
     "data": {
      "text/plain": [
       "<tf.Tensor: shape=(4,), dtype=float64, numpy=array([0.14798729, 0.24216815, 0.74814549, 0.02260333])>"
      ]
     },
     "execution_count": 5,
     "metadata": {},
     "output_type": "execute_result"
    }
   ],
   "source": [
    "# Calculate discount factors (e^-rT)\n",
    "rate = 0.05\n",
    "expiries = np.array([0.5, 1.0, 2.0, 1.3])\n",
    "discount_factors = np.exp(-rate * expiries)\n",
    "# Current value of assets.\n",
    "spots = np.array([0.9, 1.0, 1.1, 0.9])\n",
    "# Forward value of assets at expiry.\n",
    "forwards = spots / discount_factors\n",
    "# Strike prices given by:\n",
    "strikes = np.array([1.0, 2.0, 1.0, 0.5])\n",
    "# Indicate whether options are call (True) or put (False)\n",
    "is_call_options = np.array([True, True, False, False])\n",
    "# The volatilites at which the options are to be priced.\n",
    "volatilities = np.array([0.7, 1.1, 2.0, 0.5])\n",
    "# Calculate the prices given the volatilities and term structure.\n",
    "prices = option_price(\n",
    "    volatilities=volatilities,\n",
    "    strikes=strikes,\n",
    "    expiries=expiries,\n",
    "    forwards=forwards,\n",
    "    discount_factors=discount_factors,\n",
    "    is_call_options=is_call_options,\n",
    ")\n",
    "prices"
   ]
  },
  {
   "cell_type": "code",
   "execution_count": 6,
   "metadata": {},
   "outputs": [
    {
     "data": {
      "text/plain": [
       "<tf.Tensor: shape=(4,), dtype=float64, numpy=array([0.7, 1.1, 2. , 0.5])>"
      ]
     },
     "execution_count": 6,
     "metadata": {},
     "output_type": "execute_result"
    }
   ],
   "source": [
    "# Initial positions for finding implied vol.\n",
    "initial_volatilities = np.array([2.0, 0.5, 2.0, 0.5])\n",
    "# Identifier whether the option is call (True) or put (False)\n",
    "is_call_options = np.array([True, True, False, False])\n",
    "# Find the implied vols beginning at initial_volatilities.\n",
    "implied_vols = implied_vol(\n",
    "    prices=prices,\n",
    "    strikes=strikes,\n",
    "    expiries=expiries,\n",
    "    forwards=forwards,\n",
    "    discount_factors=discount_factors,\n",
    "    is_call_options=is_call_options,\n",
    "    initial_volatilities=initial_volatilities,\n",
    "    validate_args=True,\n",
    "    tolerance=1e-9,\n",
    "    max_iterations=200,\n",
    "    name=None,\n",
    "    dtype=None,\n",
    ")\n",
    "implied_vols"
   ]
  },
  {
   "attachments": {},
   "cell_type": "markdown",
   "metadata": {},
   "source": [
    "# Stock Options Evaluation : pt 1\n"
   ]
  },
  {
   "cell_type": "code",
   "execution_count": 1,
   "metadata": {},
   "outputs": [],
   "source": [
    "###PACKAGES AND FORMATTING\n",
    "\n",
    "# Importing required modules\n",
    "import pandas as pd\n",
    "import numpy as np\n",
    "import matplotlib.pyplot as plt\n",
    "import random\n",
    "from copy import copy\n",
    "from yahoo_fin.stock_info import *\n",
    "from yahoo_fin.options import *\n",
    "import math\n",
    "from datetime import date\n",
    "from datetime import datetime\n",
    "\n",
    "from modules.stock_symbols import get_largest_symbols_by_country_normal"
   ]
  },
  {
   "cell_type": "code",
   "execution_count": 3,
   "metadata": {},
   "outputs": [
    {
     "data": {
      "text/plain": [
       "['AAPL',\n",
       " 'MSFT',\n",
       " 'GOOG',\n",
       " 'AMZN',\n",
       " 'BRK-B',\n",
       " 'NVDA',\n",
       " 'TSLA',\n",
       " 'META',\n",
       " 'JNJ',\n",
       " 'UNH',\n",
       " 'V',\n",
       " 'XOM',\n",
       " 'WMT',\n",
       " 'JPM',\n",
       " 'PG',\n",
       " 'LLY',\n",
       " 'MA',\n",
       " 'CVX',\n",
       " 'HD',\n",
       " 'MRK',\n",
       " 'ABBV',\n",
       " 'KO',\n",
       " 'AVGO',\n",
       " 'ORCL',\n",
       " 'PEP',\n",
       " 'PFE',\n",
       " 'BAC',\n",
       " 'TMO',\n",
       " 'COST',\n",
       " 'CSCO',\n",
       " 'MCD',\n",
       " 'CRM',\n",
       " 'NKE',\n",
       " 'DIS',\n",
       " 'TMUS',\n",
       " 'ABT',\n",
       " 'DHR',\n",
       " 'ADBE',\n",
       " 'VZ',\n",
       " 'TXN',\n",
       " 'UPS',\n",
       " 'CMCSA',\n",
       " 'NEE',\n",
       " 'NFLX',\n",
       " 'AMD',\n",
       " 'PM',\n",
       " 'BMY',\n",
       " 'RTX',\n",
       " 'MS',\n",
       " 'WFC',\n",
       " 'T',\n",
       " 'INTC',\n",
       " 'QCOM',\n",
       " 'AMGN',\n",
       " 'COP',\n",
       " 'BA',\n",
       " 'HON',\n",
       " 'INTU',\n",
       " 'LMT',\n",
       " 'UNP',\n",
       " 'AXP',\n",
       " 'LOW',\n",
       " 'SBUX',\n",
       " 'IBM',\n",
       " 'PLD',\n",
       " 'ELV',\n",
       " 'SPGI',\n",
       " 'DE',\n",
       " 'SYK',\n",
       " 'CAT',\n",
       " 'GS',\n",
       " 'GILD',\n",
       " 'GE',\n",
       " 'AMAT',\n",
       " 'CVS',\n",
       " 'BKNG',\n",
       " 'BLK',\n",
       " 'MDLZ',\n",
       " 'NOW',\n",
       " 'AMT',\n",
       " 'ADI',\n",
       " 'SCHW',\n",
       " 'TJX',\n",
       " 'REGN',\n",
       " 'ISRG',\n",
       " 'ADP',\n",
       " 'C',\n",
       " 'PGR',\n",
       " 'EL',\n",
       " 'PYPL',\n",
       " 'MMC',\n",
       " 'VRTX',\n",
       " 'MO',\n",
       " 'CI',\n",
       " 'SO',\n",
       " 'ZTS',\n",
       " 'DUK',\n",
       " 'TGT',\n",
       " 'HCA',\n",
       " 'BDX']"
      ]
     },
     "execution_count": 3,
     "metadata": {},
     "output_type": "execute_result"
    }
   ],
   "source": [
    "# Generating S&P 500 List of Stocks\n",
    "sp_list = get_largest_symbols_by_country_normal(100)\n",
    "\n",
    "sp_list = sp_list[:5]"
   ]
  },
  {
   "cell_type": "code",
   "execution_count": 12,
   "metadata": {},
   "outputs": [
    {
     "name": "stdout",
     "output_type": "stream",
     "text": [
      "164.66000366210938\n",
      "AAPL\n",
      "291.6000061035156\n",
      "MSFT\n",
      "108.9000015258789\n",
      "GOOG\n",
      "102.05999755859375\n",
      "AMZN\n",
      "312.510009765625\n",
      "BRK-B\n"
     ]
    }
   ],
   "source": [
    "# Creating options dataset\n",
    "\n",
    "sp_list = sp_list[:5]\n",
    "\n",
    "options_df = pd.DataFrame()\n",
    "expiration = get_expiration_dates(sp_list[0])[1]\n",
    "for stock in sp_list:\n",
    "    try:\n",
    "        price = get_live_price(stock)  # current market price of the stock\n",
    "        option = get_calls(stock, expiration)\n",
    "        option[\"CurrentPrice\"] = price\n",
    "        option[\"Ticker\"] = stock\n",
    "        option[\"DateExp\"] = expiration\n",
    "        options_df = pd.concat([options_df,option],)\n",
    "        print(price)\n",
    "        print(stock)\n",
    "    except:\n",
    "        print(\"Option contract not available on \" + str(expiration))\n",
    "        pass"
   ]
  },
  {
   "cell_type": "code",
   "execution_count": 13,
   "metadata": {},
   "outputs": [
    {
     "data": {
      "text/html": [
       "<div>\n",
       "<style scoped>\n",
       "    .dataframe tbody tr th:only-of-type {\n",
       "        vertical-align: middle;\n",
       "    }\n",
       "\n",
       "    .dataframe tbody tr th {\n",
       "        vertical-align: top;\n",
       "    }\n",
       "\n",
       "    .dataframe thead th {\n",
       "        text-align: right;\n",
       "    }\n",
       "</style>\n",
       "<table border=\"1\" class=\"dataframe\">\n",
       "  <thead>\n",
       "    <tr style=\"text-align: right;\">\n",
       "      <th></th>\n",
       "      <th>Contract Name</th>\n",
       "      <th>Strike</th>\n",
       "      <th>Bid</th>\n",
       "      <th>Ask</th>\n",
       "      <th>CurrentPrice</th>\n",
       "      <th>Volume</th>\n",
       "      <th>Open Interest</th>\n",
       "      <th>Ticker</th>\n",
       "      <th>DateExp</th>\n",
       "      <th>AvgPrice</th>\n",
       "      <th>OptionCost</th>\n",
       "      <th>BE_percent</th>\n",
       "    </tr>\n",
       "  </thead>\n",
       "  <tbody>\n",
       "    <tr>\n",
       "      <th>0</th>\n",
       "      <td>AAPL230421C00050000</td>\n",
       "      <td>50.0</td>\n",
       "      <td>114.15</td>\n",
       "      <td>115.25</td>\n",
       "      <td>164.660004</td>\n",
       "      <td>7</td>\n",
       "      <td>1173</td>\n",
       "      <td>AAPL</td>\n",
       "      <td>April 21, 2023</td>\n",
       "      <td>114.700</td>\n",
       "      <td>11470.0</td>\n",
       "      <td>0.000243</td>\n",
       "    </tr>\n",
       "    <tr>\n",
       "      <th>1</th>\n",
       "      <td>AAPL230421C00060000</td>\n",
       "      <td>60.0</td>\n",
       "      <td>104.15</td>\n",
       "      <td>105.30</td>\n",
       "      <td>164.660004</td>\n",
       "      <td>10</td>\n",
       "      <td>187</td>\n",
       "      <td>AAPL</td>\n",
       "      <td>April 21, 2023</td>\n",
       "      <td>104.725</td>\n",
       "      <td>10472.5</td>\n",
       "      <td>0.000395</td>\n",
       "    </tr>\n",
       "    <tr>\n",
       "      <th>2</th>\n",
       "      <td>AAPL230421C00065000</td>\n",
       "      <td>65.0</td>\n",
       "      <td>99.20</td>\n",
       "      <td>100.30</td>\n",
       "      <td>164.660004</td>\n",
       "      <td>2</td>\n",
       "      <td>115</td>\n",
       "      <td>AAPL</td>\n",
       "      <td>April 21, 2023</td>\n",
       "      <td>99.750</td>\n",
       "      <td>9975.0</td>\n",
       "      <td>0.000547</td>\n",
       "    </tr>\n",
       "    <tr>\n",
       "      <th>3</th>\n",
       "      <td>AAPL230421C00070000</td>\n",
       "      <td>70.0</td>\n",
       "      <td>94.20</td>\n",
       "      <td>95.30</td>\n",
       "      <td>164.660004</td>\n",
       "      <td>2</td>\n",
       "      <td>217</td>\n",
       "      <td>AAPL</td>\n",
       "      <td>April 21, 2023</td>\n",
       "      <td>94.750</td>\n",
       "      <td>9475.0</td>\n",
       "      <td>0.000547</td>\n",
       "    </tr>\n",
       "    <tr>\n",
       "      <th>4</th>\n",
       "      <td>AAPL230421C00075000</td>\n",
       "      <td>75.0</td>\n",
       "      <td>89.25</td>\n",
       "      <td>90.30</td>\n",
       "      <td>164.660004</td>\n",
       "      <td>1</td>\n",
       "      <td>118</td>\n",
       "      <td>AAPL</td>\n",
       "      <td>April 21, 2023</td>\n",
       "      <td>89.775</td>\n",
       "      <td>8977.5</td>\n",
       "      <td>0.000698</td>\n",
       "    </tr>\n",
       "    <tr>\n",
       "      <th>...</th>\n",
       "      <td>...</td>\n",
       "      <td>...</td>\n",
       "      <td>...</td>\n",
       "      <td>...</td>\n",
       "      <td>...</td>\n",
       "      <td>...</td>\n",
       "      <td>...</td>\n",
       "      <td>...</td>\n",
       "      <td>...</td>\n",
       "      <td>...</td>\n",
       "      <td>...</td>\n",
       "      <td>...</td>\n",
       "    </tr>\n",
       "    <tr>\n",
       "      <th>37</th>\n",
       "      <td>BRKB230421C00395000</td>\n",
       "      <td>395.0</td>\n",
       "      <td>0.00</td>\n",
       "      <td>0.36</td>\n",
       "      <td>312.510010</td>\n",
       "      <td>-</td>\n",
       "      <td>1</td>\n",
       "      <td>BRK-B</td>\n",
       "      <td>April 21, 2023</td>\n",
       "      <td>0.180</td>\n",
       "      <td>18.0</td>\n",
       "      <td>0.264535</td>\n",
       "    </tr>\n",
       "    <tr>\n",
       "      <th>38</th>\n",
       "      <td>BRKB230421C00400000</td>\n",
       "      <td>400.0</td>\n",
       "      <td>0.00</td>\n",
       "      <td>1.01</td>\n",
       "      <td>312.510010</td>\n",
       "      <td>2</td>\n",
       "      <td>2</td>\n",
       "      <td>BRK-B</td>\n",
       "      <td>April 21, 2023</td>\n",
       "      <td>0.505</td>\n",
       "      <td>50.5</td>\n",
       "      <td>0.281575</td>\n",
       "    </tr>\n",
       "    <tr>\n",
       "      <th>39</th>\n",
       "      <td>BRKB230421C00430000</td>\n",
       "      <td>430.0</td>\n",
       "      <td>0.00</td>\n",
       "      <td>4.80</td>\n",
       "      <td>312.510010</td>\n",
       "      <td>-</td>\n",
       "      <td>1</td>\n",
       "      <td>BRK-B</td>\n",
       "      <td>April 21, 2023</td>\n",
       "      <td>2.400</td>\n",
       "      <td>240.0</td>\n",
       "      <td>0.383636</td>\n",
       "    </tr>\n",
       "    <tr>\n",
       "      <th>40</th>\n",
       "      <td>BRKB230421C00440000</td>\n",
       "      <td>440.0</td>\n",
       "      <td>0.00</td>\n",
       "      <td>4.80</td>\n",
       "      <td>312.510010</td>\n",
       "      <td>-</td>\n",
       "      <td>1</td>\n",
       "      <td>BRK-B</td>\n",
       "      <td>April 21, 2023</td>\n",
       "      <td>2.400</td>\n",
       "      <td>240.0</td>\n",
       "      <td>0.415635</td>\n",
       "    </tr>\n",
       "    <tr>\n",
       "      <th>41</th>\n",
       "      <td>BRKB230421C00460000</td>\n",
       "      <td>460.0</td>\n",
       "      <td>0.00</td>\n",
       "      <td>0.75</td>\n",
       "      <td>312.510010</td>\n",
       "      <td>-</td>\n",
       "      <td>2</td>\n",
       "      <td>BRK-B</td>\n",
       "      <td>April 21, 2023</td>\n",
       "      <td>0.375</td>\n",
       "      <td>37.5</td>\n",
       "      <td>0.473153</td>\n",
       "    </tr>\n",
       "  </tbody>\n",
       "</table>\n",
       "<p>299 rows × 12 columns</p>\n",
       "</div>"
      ],
      "text/plain": [
       "          Contract Name  Strike     Bid     Ask  CurrentPrice Volume  \\\n",
       "0   AAPL230421C00050000    50.0  114.15  115.25    164.660004      7   \n",
       "1   AAPL230421C00060000    60.0  104.15  105.30    164.660004     10   \n",
       "2   AAPL230421C00065000    65.0   99.20  100.30    164.660004      2   \n",
       "3   AAPL230421C00070000    70.0   94.20   95.30    164.660004      2   \n",
       "4   AAPL230421C00075000    75.0   89.25   90.30    164.660004      1   \n",
       "..                  ...     ...     ...     ...           ...    ...   \n",
       "37  BRKB230421C00395000   395.0    0.00    0.36    312.510010      -   \n",
       "38  BRKB230421C00400000   400.0    0.00    1.01    312.510010      2   \n",
       "39  BRKB230421C00430000   430.0    0.00    4.80    312.510010      -   \n",
       "40  BRKB230421C00440000   440.0    0.00    4.80    312.510010      -   \n",
       "41  BRKB230421C00460000   460.0    0.00    0.75    312.510010      -   \n",
       "\n",
       "    Open Interest Ticker         DateExp  AvgPrice  OptionCost  BE_percent  \n",
       "0            1173   AAPL  April 21, 2023   114.700     11470.0    0.000243  \n",
       "1             187   AAPL  April 21, 2023   104.725     10472.5    0.000395  \n",
       "2             115   AAPL  April 21, 2023    99.750      9975.0    0.000547  \n",
       "3             217   AAPL  April 21, 2023    94.750      9475.0    0.000547  \n",
       "4             118   AAPL  April 21, 2023    89.775      8977.5    0.000698  \n",
       "..            ...    ...             ...       ...         ...         ...  \n",
       "37              1  BRK-B  April 21, 2023     0.180        18.0    0.264535  \n",
       "38              2  BRK-B  April 21, 2023     0.505        50.5    0.281575  \n",
       "39              1  BRK-B  April 21, 2023     2.400       240.0    0.383636  \n",
       "40              1  BRK-B  April 21, 2023     2.400       240.0    0.415635  \n",
       "41              2  BRK-B  April 21, 2023     0.375        37.5    0.473153  \n",
       "\n",
       "[299 rows x 12 columns]"
      ]
     },
     "execution_count": 13,
     "metadata": {},
     "output_type": "execute_result"
    }
   ],
   "source": [
    "options_df = options_df[\n",
    "    [\n",
    "        \"Contract Name\",\n",
    "        \"Strike\",\n",
    "        \"Bid\",\n",
    "        \"Ask\",\n",
    "        \"CurrentPrice\",\n",
    "        \"Volume\",\n",
    "        \"Open Interest\",\n",
    "        \"Ticker\",\n",
    "        \"DateExp\",\n",
    "    ]\n",
    "]\n",
    "\n",
    "options_df = options_df[options_df.Bid != \"-\"]\n",
    "options_df = options_df[options_df.Ask != \"-\"]\n",
    "\n",
    "options_df[\"AvgPrice\"] = (\n",
    "    pd.to_numeric(options_df.Bid) + pd.to_numeric(options_df.Ask)\n",
    ") / 2\n",
    "options_df[\"OptionCost\"] = options_df[\"AvgPrice\"] * 100\n",
    "options_df[\"BE_percent\"] = (\n",
    "    (options_df.Strike + options_df.AvgPrice) / (options_df.CurrentPrice)\n",
    ") - 1\n",
    "\n",
    "options_df"
   ]
  },
  {
   "cell_type": "code",
   "execution_count": 14,
   "metadata": {},
   "outputs": [
    {
     "data": {
      "text/plain": [
       "0.0005465585806454509"
      ]
     },
     "execution_count": 14,
     "metadata": {},
     "output_type": "execute_result"
    },
    {
     "data": {
      "image/png": "[encoded data removed]",
      "text/plain": [
       "<Figure size 640x480 with 1 Axes>"
      ]
     },
     "metadata": {},
     "output_type": "display_data"
    }
   ],
   "source": [
    "def price_percent_payoff(x, row):  # x is in decimal format\n",
    "    new_price = row.CurrentPrice * (1 + x)\n",
    "    if (100 * new_price - 100 * row.Strike - row.OptionCost) >= 0:\n",
    "        payoff = 100 * new_price - 100 * row.Strike - row.OptionCost\n",
    "    else:\n",
    "        payoff = -(row.OptionCost)\n",
    "    return payoff\n",
    "\n",
    "\n",
    "ind = 2\n",
    "ticker = \"AAPL\"\n",
    "x_axis = np.arange(-50, 51, 1)\n",
    "payoffs = []\n",
    "for p in range(len(x_axis)):\n",
    "    percent = (p - 50) * 0.01\n",
    "    payoff = price_percent_payoff(\n",
    "        percent, options_df[options_df.Ticker == ticker].iloc[ind]\n",
    "    )\n",
    "    payoffs.append(payoff)\n",
    "\n",
    "contract = options_df[options_df.Ticker == ticker].iloc[ind][\"Contract Name\"]\n",
    "plt.bar(x_axis, payoffs)\n",
    "plt.xlabel(\"Price % Change from start date to expiration\")\n",
    "plt.ylabel(\"Payoff ($)\")\n",
    "plt.title(\"Payoff Possibilities for \" + str(contract))\n",
    "# plt.savefig('T_prices.png', dpi = 800)\n",
    "\n",
    "options_df[options_df.Ticker == ticker].iloc[ind][\"BE_percent\"]"
   ]
  },
  {
   "attachments": {},
   "cell_type": "markdown",
   "metadata": {},
   "source": [
    "# Stock Options Evaluation : pt 2\n"
   ]
  },
  {
   "cell_type": "code",
   "execution_count": 15,
   "metadata": {},
   "outputs": [],
   "source": [
    "def delta_dist(ticker, duration, sample_size):\n",
    "    stock = get_data(ticker).close\n",
    "    dates = list(stock.index)\n",
    "    duration = int(duration)\n",
    "    sample_size = int(sample_size)\n",
    "    deltas = []\n",
    "\n",
    "    for s in range(sample_size):\n",
    "        try:\n",
    "            x = random.randint(0, (sample_size - 1))\n",
    "            start = stock[x]\n",
    "            stop = stock[x + duration]\n",
    "            difference_percent = (stop - start)/start\n",
    "            deltas.append(difference_percent)\n",
    "        except:\n",
    "            pass\n",
    "\n",
    "    return deltas\n"
   ]
  },
  {
   "cell_type": "code",
   "execution_count": 16,
   "metadata": {},
   "outputs": [],
   "source": [
    "def binned(diffs):\n",
    "    bins = []\n",
    "    for bin in range(101):    #needs to be 101 to count -50% and +50%\n",
    "        begin = (bin - 50)*0.01\n",
    "        def between_bins(k):\n",
    "            return (k <= begin + .01) and (k > begin)\n",
    "        count = list(filter(between_bins, diffs))\n",
    "        amount = len(count)/len(diffs)  #amount is percent of total\n",
    "        bins.append(amount)\n",
    "    return(bins)"
   ]
  },
  {
   "cell_type": "code",
   "execution_count": 17,
   "metadata": {},
   "outputs": [
    {
     "data": {
      "image/png": "[encoded data removed]",
      "text/plain": [
       "<Figure size 640x480 with 1 Axes>"
      ]
     },
     "metadata": {},
     "output_type": "display_data"
    }
   ],
   "source": [
    "#SAMPLE SIZE 200\n",
    "changes = delta_dist(ticker, 14, 200)\n",
    "binned_changes = binned(changes)\n",
    "x_axis = np.arange(-50, 51, 1)\n",
    "\n",
    "plt.bar(x_axis, binned_changes)\n",
    "plt.xlabel('Stock Price % Change')\n",
    "plt.ylabel('Probability')\n",
    "plt.title('AAPL: Probability Distribution- 14 day price change(Sample Size=200)');\n"
   ]
  },
  {
   "cell_type": "code",
   "execution_count": 18,
   "metadata": {},
   "outputs": [
    {
     "data": {
      "image/png": "[encoded data removed]",
      "text/plain": [
       "<Figure size 640x480 with 1 Axes>"
      ]
     },
     "metadata": {},
     "output_type": "display_data"
    }
   ],
   "source": [
    "#SAMPLE SIZE 9000\n",
    "changes = delta_dist('AAPL', 14, 9000)\n",
    "binned_changes = binned(changes)\n",
    "x_axis = np.arange(-50, 51, 1)\n",
    "\n",
    "plt.bar(x_axis, binned_changes)\n",
    "plt.xlabel('Stock Price % Change')\n",
    "plt.ylabel('Probability')\n",
    "plt.title('AAPL: Probability Distribution- 14 day price change(Sample Size=9000)');\n",
    "\n"
   ]
  },
  {
   "cell_type": "code",
   "execution_count": 19,
   "metadata": {},
   "outputs": [
    {
     "data": {
      "image/png": "[encoded data removed]",
      "text/plain": [
       "<Figure size 640x480 with 1 Axes>"
      ]
     },
     "metadata": {},
     "output_type": "display_data"
    }
   ],
   "source": [
    "#SAMPLE SIZE 3000, DURATION = 5 years\n",
    "changes = delta_dist('AAPL', 365*3, 3000)\n",
    "binned_changes = binned(changes)\n",
    "x_axis = np.arange(-50, 51, 1)\n",
    "\n",
    "plt.bar(x_axis, binned_changes)\n",
    "plt.xlabel('Stock Price % Change')\n",
    "plt.ylabel('Probability')\n",
    "plt.title('AAPL: Probability Distribution- 3 Year Price Change');\n"
   ]
  },
  {
   "cell_type": "code",
   "execution_count": 20,
   "metadata": {},
   "outputs": [],
   "source": [
    "#Generate time lapse between today and expiration of options contract:\n",
    "timedate_until_exp = datetime.strptime(expiration, '%B %d, %Y') - datetime.today()\n",
    "time_until_exp = int(timedate_until_exp.days)  #gives integer value of distance from today until expiration"
   ]
  },
  {
   "cell_type": "code",
   "execution_count": 21,
   "metadata": {},
   "outputs": [],
   "source": [
    "#Creating dictionary containing each ticker and prob distribution \n",
    "scenario_tickers = list(set(options_df.Ticker))\n",
    "number_of_tickers = len(scenario_tickers)\n",
    "simulations = 2000\n",
    "\n",
    "#dict_of_stuff will contain each ticker key corresponding to the 101 values of its distribution of price changes [-50%, 50%]\n",
    "dict_of_probs = dict()\n",
    "for stock in scenario_tickers:      #N is the sample size\n",
    "    changes = delta_dist(stock, time_until_exp, simulations) \n",
    "    distribution_list = binned(changes)   #then, bin these changes so that they fit into the -50% to +50% integer counts\n",
    "    dict_of_probs.update({stock : distribution_list})  #matches each ticker in dictionary with 101 counts "
   ]
  },
  {
   "cell_type": "code",
   "execution_count": 22,
   "metadata": {},
   "outputs": [
    {
     "data": {
      "text/plain": [
       "Text(0.5, 1.0, '13 day average % price change for AMZN')"
      ]
     },
     "execution_count": 22,
     "metadata": {},
     "output_type": "execute_result"
    },
    {
     "data": {
      "image/png": "[encoded data removed]",
      "text/plain": [
       "<Figure size 640x480 with 1 Axes>"
      ]
     },
     "metadata": {},
     "output_type": "display_data"
    }
   ],
   "source": [
    "#Verify it works with example\n",
    "x_axis = np.arange(-50, 51, 1)\n",
    "example = random.randint(0, number_of_tickers - 1)\n",
    "\n",
    "plt.bar(x_axis, dict_of_probs[scenario_tickers[example]])\n",
    "plt.xlabel('Stock Price % Change')\n",
    "plt.ylabel('Probability')\n",
    "plt.title(str(time_until_exp) + \" day average % price change for \" + str(scenario_tickers[example]))\n"
   ]
  },
  {
   "cell_type": "code",
   "execution_count": 23,
   "metadata": {},
   "outputs": [],
   "source": [
    "#Generating expected payoffs\n",
    "x_axis = np.arange(-50, 51, 1)\n",
    "ExpectedPay = []\n",
    "\n",
    "for i in range(len(options_df)):\n",
    "    payoffs = []\n",
    "    ticker = options_df.iloc[i].Ticker\n",
    "    for p in range(len(x_axis)):\n",
    "        percent = (p - 50)*0.01\n",
    "        payoff = price_percent_payoff(percent, options_df.iloc[i])\n",
    "        payoffs.append(payoff)\n",
    "    #payoffs list contains the 101 values to be multiplied by the probabilities \n",
    "    probs = dict_of_probs[ticker]\n",
    "    expected_value = sum( np.array(probs) * np.array(payoffs) )\n",
    "    ExpectedPay.append(expected_value)\n",
    "\n",
    "options_df['ExpectedPay'] = ExpectedPay"
   ]
  },
  {
   "cell_type": "code",
   "execution_count": 24,
   "metadata": {},
   "outputs": [
    {
     "data": {
      "image/png": "[encoded data removed]",
      "text/plain": [
       "<Figure size 640x480 with 1 Axes>"
      ]
     },
     "metadata": {},
     "output_type": "display_data"
    }
   ],
   "source": [
    "plt.hist(ExpectedPay, bins = 40, range=[-2000, 2000])\n",
    "plt.xlabel('Total Expected Gain/Loss of Contract in $')\n",
    "plt.ylabel('Frequency')\n",
    "plt.title(\"Frequency of Expected Gains and Losses\");\n",
    "plt.savefig('payoffs.png', dpi = 800)"
   ]
  },
  {
   "cell_type": "code",
   "execution_count": null,
   "metadata": {},
   "outputs": [],
   "source": []
  }
 ],
 "metadata": {
  "kernelspec": {
   "display_name": ".venv",
   "language": "python",
   "name": "python3"
  },
  "language_info": {
   "codemirror_mode": {
    "name": "ipython",
    "version": 3
   },
   "file_extension": ".py",
   "mimetype": "text/x-python",
   "name": "python",
   "nbconvert_exporter": "python",
   "pygments_lexer": "ipython3",
   "version": "3.10.6"
  },
  "orig_nbformat": 4
 },
 "nbformat": 4,
 "nbformat_minor": 2
}
