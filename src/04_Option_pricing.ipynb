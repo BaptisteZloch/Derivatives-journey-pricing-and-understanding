{
 "cells": [
  {
   "attachments": {},
   "cell_type": "markdown",
   "metadata": {},
   "source": [
    "# Black-Scholes solution\n",
    "The value of a European call option is:\n",
    "\n",
    "$$\n",
    "C(S_t,t) = N(d_1)S_t - N(d_2)PV(K) \\\\\n",
    "d_1 = \\frac{1}{\\sigma\\sqrt{T-t}} \\\\\n",
    "d_2 = d_1-\\sigma\\sqrt{T-t} \\\\\n",
    "PV(K) = Ke^{r(T-t)}\n",
    "$$\n",
    "\n",
    "Under the NA0 (No Arbitrage Opportunity) the assumption the **put-call parity** exists as:\n",
    "\n",
    "$$\n",
    "C(S_t,t) - P(S_t,t) = S_t - PV(K) \\\\\n",
    "PV(K) = Ke^{r(T-t)}\n",
    "$$\n",
    "\n",
    "The value of a European put option is:\n",
    "\n",
    "$$\n",
    "P(S_t,t) =  N(-d_2)PV(K) - N(-d_1)S_t\n",
    "$$\n",
    "\n",
    "$N(.)$ is the cumulative distribution function of the standard normal distribution <br>\n",
    "$K$ is the strike price <br>\n",
    "$T-t$ is the time to maturity (expressed in years)<br>\n",
    "$S_t$ is the spot price of the underlying asset<br>\n",
    "$r$ is the risk-free rate (annual rate, expressed in terms of continuous compounding)<br>\n",
    "$\\sigma$ is the implied volatility of returns of the underlying asset.<br>\n"
   ]
  },
  {
   "cell_type": "code",
   "execution_count": 1,
   "metadata": {},
   "outputs": [],
   "source": [
    "from typing import Literal\n",
    "import numpy as np\n",
    "import scipy.stats as stats\n",
    "\n",
    "from modules.pricings import (\n",
    "    black_scholes_option_price,\n",
    "    from_call_to_put,\n",
    "    from_put_to_call,\n",
    ")\n"
   ]
  },
  {
   "cell_type": "code",
   "execution_count": 2,
   "metadata": {},
   "outputs": [
    {
     "name": "stdout",
     "output_type": "stream",
     "text": [
      "Call price: $ 6.04\n",
      "Put price using the BS formula: $ 10.68\n",
      "Put price using the put call parity formula: $ 10.68\n"
     ]
    }
   ],
   "source": [
    "call_price = black_scholes_option_price(100, 110, 0.05, 1, 0.2, \"call\")\n",
    "\n",
    "print(f\"Call price: $ {call_price:.2f}\")\n",
    "\n",
    "put_price = black_scholes_option_price(100, 110, 0.05, 1, 0.2, \"put\")\n",
    "print(f\"Put price using the BS formula: $ {put_price:.2f}\")\n",
    "print(\n",
    "    f\"Put price using the put call parity formula: $ {from_call_to_put(call_price,100,110,0.05,1):.2f}\"\n",
    ")\n"
   ]
  },
  {
   "attachments": {},
   "cell_type": "markdown",
   "metadata": {},
   "source": [
    "# Monte Carlo simulation \n",
    "\n",
    "Given the current asset price at time $0$ is $S_0$, then the asset price at time $T$ can be expressed as:\n",
    "\n",
    "$$\n",
    "S_T = S_0e^{(r- \\frac{\\sigma^2}{2})T  + \\sigma W_T}\n",
    "$$\n",
    "\n",
    "$T$ is the time to maturity<br>\n",
    "$S_t$ is the spot price of the underlying asset<br>\n",
    "$r$ is the risk-free rate (annual rate, expressed in terms of continuous compounding)<br>\n",
    "$\\sigma$ is the volatility of returns of the underlying asset.<br>\n",
    "$W_T$ is the Brownian motion.<br>\n",
    "\n",
    "Where $W_T$ follows the normal distribution with mean $0$ and variance $T$. The pay-off of the call option is $max(S_T−K,0)$ and for the put option is $max(K−ST)$.\n"
   ]
  },
  {
   "cell_type": "code",
   "execution_count": 4,
   "metadata": {},
   "outputs": [],
   "source": [
    "from modules.pricings import monte_carlo_option_price"
   ]
  },
  {
   "cell_type": "code",
   "execution_count": 5,
   "metadata": {},
   "outputs": [
    {
     "name": "stdout",
     "output_type": "stream",
     "text": [
      "Call price: $ 6.03 +/- 0.04\n",
      "Put price: $ 6.05 +/- 6.05\n"
     ]
    }
   ],
   "source": [
    "call_price, call_price_std_error = monte_carlo_option_price(\n",
    "    s0=100, k=110, r=0.05, tau=1, sigma=0.2, nb_simulation=100000, option_type=\"call\"\n",
    ")\n",
    "print(f\"Call price: $ {call_price:.2f} +/- {call_price_std_error:.2f}\")\n",
    "put_price, put_price_std_error = monte_carlo_option_price(\n",
    "    s0=100, k=110, r=0.05, tau=1, sigma=0.2, nb_simulation=100000, option_type=\"put\"\n",
    ")\n",
    "print(f\"Put price: $ {put_price:.2f} +/- {put_price:.2f}\")\n"
   ]
  },
  {
   "attachments": {},
   "cell_type": "markdown",
   "metadata": {},
   "source": [
    "# Comparing Black-Scholes formula to Monte-Carlo simulation\n",
    "## Call options\n"
   ]
  },
  {
   "cell_type": "code",
   "execution_count": 6,
   "metadata": {},
   "outputs": [
    {
     "name": "stdout",
     "output_type": "stream",
     "text": [
      "Black-Scholes call price: $ 6.04\n",
      "Monte-Carlo call price: $ 5.72 +/- 0.35\n"
     ]
    }
   ],
   "source": [
    "bs_call_price = black_scholes_option_price(100, 110, 0.05, 1, 0.2, \"call\")\n",
    "mc_call_price, mc_call_price_std = monte_carlo_option_price(\n",
    "    100, 110, 0.05, 1, 0.2, 1000, \"call\"\n",
    ")\n",
    "\n",
    "print(f\"Black-Scholes call price: $ {bs_call_price:.2f}\")\n",
    "print(f\"Monte-Carlo call price: $ {mc_call_price:.2f} +/- {mc_call_price_std:.2f}\")\n"
   ]
  },
  {
   "attachments": {},
   "cell_type": "markdown",
   "metadata": {},
   "source": [
    "## Put options\n"
   ]
  },
  {
   "cell_type": "code",
   "execution_count": 7,
   "metadata": {},
   "outputs": [
    {
     "name": "stdout",
     "output_type": "stream",
     "text": [
      "Black-Scholes put price: $ 10.68\n",
      "Monte-Carlo put price: $ 5.96 +/- 0.04\n"
     ]
    }
   ],
   "source": [
    "bs_put_price = black_scholes_option_price(100, 110, 0.05, 1, 0.2, \"put\")\n",
    "mc_put_price, mc_put_price_std = monte_carlo_option_price(\n",
    "    100, 110, 0.05, 1, 0.2, 100000, \"put\"\n",
    ")\n",
    "\n",
    "print(f\"Black-Scholes put price: $ {bs_put_price:.2f}\")\n",
    "print(f\"Monte-Carlo put price: $ {mc_put_price:.2f} +/- {mc_put_price_std:.2f}\")\n"
   ]
  },
  {
   "cell_type": "code",
   "execution_count": null,
   "metadata": {},
   "outputs": [],
   "source": []
  }
 ],
 "metadata": {
  "kernelspec": {
   "display_name": ".venv",
   "language": "python",
   "name": "python3"
  },
  "language_info": {
   "codemirror_mode": {
    "name": "ipython",
    "version": 3
   },
   "file_extension": ".py",
   "mimetype": "text/x-python",
   "name": "python",
   "nbconvert_exporter": "python",
   "pygments_lexer": "ipython3",
   "version": "3.10.6"
  },
  "orig_nbformat": 4
 },
 "nbformat": 4,
 "nbformat_minor": 2
}
