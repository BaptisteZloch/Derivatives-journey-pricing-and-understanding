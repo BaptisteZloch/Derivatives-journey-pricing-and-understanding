{
 "cells": [
  {
   "cell_type": "code",
   "execution_count": 3,
   "metadata": {},
   "outputs": [],
   "source": [
    "from typing import Literal\n",
    "import numpy as np\n",
    "import scipy.stats as stats\n",
    "\n",
    "from modules.pricings import monte_carlo_option_price\n"
   ]
  },
  {
   "cell_type": "code",
   "execution_count": 4,
   "metadata": {},
   "outputs": [],
   "source": [
    "def black_scholes_option_price(\n",
    "    s0: float | int,\n",
    "    k: float | int,\n",
    "    r: float | int,\n",
    "    tau: float | int,\n",
    "    sigma: float | int,\n",
    "    option_type: Literal[\"call\", \"put\"] = \"call\",\n",
    ") -> float:\n",
    "    \"\"\"Monte Carlo simulation of the option price.\n",
    "\n",
    "    Args:\n",
    "        s0 (float | int): The spot price.\n",
    "        k (float | int): The strike price.\n",
    "        r (float | int): The risk-free interest rate.\n",
    "        tau (float | int): The time to maturity.\n",
    "        sigma (float | int): The volatility.\n",
    "        option_type: Literal[\"call\", \"put\"]: The type of option to price. Defaults to \"call\".\n",
    "\n",
    "    Returns:\n",
    "        float: The simulated option price.\n",
    "    \"\"\"\n",
    "    d1 = (np.log(s0 / k) + (r + 0.5 * sigma**2) * tau) / (sigma * np.sqrt(tau))\n",
    "    d2 = d1 - sigma * np.sqrt(tau)\n",
    "    pv = k * np.exp(-r * tau)\n",
    "\n",
    "    match option_type:\n",
    "        case \"put\":\n",
    "            return pv * stats.norm.cdf(-d2) - s0 * stats.norm.cdf(-d1)\n",
    "        case \"call\":\n",
    "            return s0 * stats.norm.cdf(d1) - pv * stats.norm.cdf(d2)\n",
    "        case _:\n",
    "            raise ValueError(f\"Unknown option type: {option_type}\")\n"
   ]
  },
  {
   "cell_type": "code",
   "execution_count": 13,
   "metadata": {},
   "outputs": [
    {
     "name": "stdout",
     "output_type": "stream",
     "text": [
      "Call price: $ 6.04\n",
      "Call price: $ 10.68\n"
     ]
    }
   ],
   "source": [
    "call_price = black_scholes_option_price(100, 110, 0.05, 1, 0.2, \"call\")\n",
    "\n",
    "print(f\"Call price: $ {call_price:.2f}\")\n",
    "\n",
    "put_price = black_scholes_option_price(100, 110, 0.05, 1, 0.2, \"put\")\n",
    "\n",
    "print(f\"Call price: $ {put_price:.2f}\")\n"
   ]
  },
  {
   "attachments": {},
   "cell_type": "markdown",
   "metadata": {},
   "source": [
    "# Comparing Black-Scholes formula to Monte-Carlo simulation\n"
   ]
  },
  {
   "attachments": {},
   "cell_type": "markdown",
   "metadata": {},
   "source": [
    "## Call options\n"
   ]
  },
  {
   "cell_type": "code",
   "execution_count": 9,
   "metadata": {},
   "outputs": [
    {
     "name": "stdout",
     "output_type": "stream",
     "text": [
      "Black-Scholes call price: $ 6.04\n",
      "Monte-Carlo call price: $ 6.23 +/- 0.37\n"
     ]
    }
   ],
   "source": [
    "bs_call_price = black_scholes_option_price(100, 110, 0.05, 1, 0.2, \"call\")\n",
    "mc_call_price, mc_call_price_std = monte_carlo_option_price(\n",
    "    100, 110, 0.05, 1, 0.2, 1000, \"call\"\n",
    ")\n",
    "\n",
    "print(f\"Black-Scholes call price: $ {bs_call_price:.2f}\")\n",
    "print(f\"Monte-Carlo call price: $ {mc_call_price:.2f} +/- {mc_call_price_std:.2f}\")"
   ]
  },
  {
   "attachments": {},
   "cell_type": "markdown",
   "metadata": {},
   "source": [
    "## Put options\n"
   ]
  },
  {
   "cell_type": "code",
   "execution_count": 11,
   "metadata": {},
   "outputs": [
    {
     "name": "stdout",
     "output_type": "stream",
     "text": [
      "Black-Scholes put price: $ 10.68\n",
      "Monte-Carlo put price: $ 6.00 +/- 0.04\n"
     ]
    }
   ],
   "source": [
    "bs_put_price = black_scholes_option_price(100, 110, 0.05, 1, 0.2, \"put\")\n",
    "mc_put_price, mc_put_price_std = monte_carlo_option_price(\n",
    "    100, 110, 0.05, 1, 0.2, 100000, \"put\"\n",
    ")\n",
    "\n",
    "print(f\"Black-Scholes put price: $ {bs_put_price:.2f}\")\n",
    "print(f\"Monte-Carlo put price: $ {mc_put_price:.2f} +/- {mc_put_price_std:.2f}\")"
   ]
  },
  {
   "cell_type": "code",
   "execution_count": null,
   "metadata": {},
   "outputs": [],
   "source": []
  }
 ],
 "metadata": {
  "kernelspec": {
   "display_name": ".venv",
   "language": "python",
   "name": "python3"
  },
  "language_info": {
   "codemirror_mode": {
    "name": "ipython",
    "version": 3
   },
   "file_extension": ".py",
   "mimetype": "text/x-python",
   "name": "python",
   "nbconvert_exporter": "python",
   "pygments_lexer": "ipython3",
   "version": "3.10.6"
  },
  "orig_nbformat": 4
 },
 "nbformat": 4,
 "nbformat_minor": 2
}
