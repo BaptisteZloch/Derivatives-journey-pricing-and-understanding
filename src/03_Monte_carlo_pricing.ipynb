{
 "cells": [
  {
   "attachments": {},
   "cell_type": "markdown",
   "metadata": {},
   "source": [
    "# Definition\n",
    "\n",
    "Given the current asset price at time $0$ is $S_0$, then the asset price at time $T$ can be expressed as:\n",
    "\n",
    "$$\n",
    "S_T = S_0e^{(r- \\frac{\\sigma^2}{2})T  + \\sigma W_T}\n",
    "$$\n",
    "\n",
    "$T$ is the time to maturity<br>\n",
    "$S_t$ is the spot price of the underlying asset<br>\n",
    "$r$ is the risk-free rate (annual rate, expressed in terms of continuous compounding)<br>\n",
    "$\\sigma$ is the volatility of returns of the underlying asset.<br>\n",
    "$W_T$ is the Brownian motion.<br>\n",
    "\n",
    "Where $W_T$ follows the normal distribution with mean $0$ and variance $T$. The pay-off of the call option is $max(S_T−K,0)$ and for the put option is $max(K−ST)$.\n"
   ]
  },
  {
   "attachments": {},
   "cell_type": "markdown",
   "metadata": {},
   "source": [
    "# Import"
   ]
  },
  {
   "cell_type": "code",
   "execution_count": 21,
   "metadata": {},
   "outputs": [],
   "source": [
    "import numpy as np\n",
    "import numpy.typing as npt\n",
    "from typing import Literal\n"
   ]
  },
  {
   "attachments": {},
   "cell_type": "markdown",
   "metadata": {},
   "source": [
    "# Method implementations\n",
    "- Simulations\n",
    "- Price calculation"
   ]
  },
  {
   "cell_type": "code",
   "execution_count": 45,
   "metadata": {},
   "outputs": [],
   "source": [
    "def monte_carlo_spot_price(\n",
    "    s0: float | int,\n",
    "    r: float | int,\n",
    "    tau: float | int,\n",
    "    sigma: float | int,\n",
    "    nb_simulation: int = 10000,\n",
    ") -> npt.NDArray:\n",
    "    \"\"\"Monte Carlo simulation of the spot price.\n",
    "\n",
    "    Args:\n",
    "        s0 (float | int): The initial spot price.\n",
    "        r (float | int): The risk-free interest rate.\n",
    "        tau (float | int): The time to maturity.\n",
    "        sigma (float | int): The volatility.\n",
    "        nb_simulation (int, optional): The number of simulation to run, could be long. Defaults to 10000.\n",
    "\n",
    "    Returns:\n",
    "        npt.NDArray: The simulated spot prices.\n",
    "    \"\"\"\n",
    "    WT = np.random.normal(0.0, np.sqrt(tau), nb_simulation)\n",
    "    return s0 * np.exp((r - 0.5 * sigma**2) * tau + sigma * WT)\n",
    "\n",
    "\n",
    "def monte_carlo_option_price(\n",
    "    s0: float | int,\n",
    "    k: float | int,\n",
    "    r: float | int,\n",
    "    tau: float | int,\n",
    "    sigma: float | int,\n",
    "    nb_simulation: int = 10000,\n",
    "    option_type: Literal[\"call\", \"put\"] = \"call\",\n",
    ") -> tuple[np.floating, np.floating]:\n",
    "    \"\"\"Monte Carlo simulation of the option price.\n",
    "\n",
    "    Args:\n",
    "        s0 (float | int): The initial spot price.\n",
    "        k (float | int): The strike price.\n",
    "        r (float | int): The risk-free interest rate.\n",
    "        tau (float | int): The time to maturity.\n",
    "        sigma (float | int): The volatility.\n",
    "        nb_simulation (int, optional): The number of simulation to run, could be long. Defaults to 10000.\n",
    "        option_type: Literal[\"call\", \"put\"]: The type of option to price. Defaults to \"call\".\n",
    "\n",
    "    Returns:\n",
    "        tuple[np.floating, np.floating]: The simulated option price and its standard error.\n",
    "    \"\"\"\n",
    "    st = monte_carlo_spot_price(s0, r, tau, sigma, nb_simulation)\n",
    "    option_prices: npt.NDArray = (\n",
    "        np.exp(-r * tau) * np.maximum(st - k, 0)\n",
    "        if option_type == \"call\"\n",
    "        else np.exp(-r * tau) * np.maximum(st - k, 0)\n",
    "    )\n",
    "    return np.mean(option_prices), np.std(option_prices) / np.sqrt(nb_simulation)"
   ]
  },
  {
   "cell_type": "code",
   "execution_count": 46,
   "metadata": {},
   "outputs": [
    {
     "name": "stdout",
     "output_type": "stream",
     "text": [
      "Call price: $ 6.09 +/- 0.04\n",
      "Put price: $ 6.09 +/- 0.04\n"
     ]
    }
   ],
   "source": [
    "call_price, call_price_std_error = monte_carlo_option_price(\n",
    "    s0=100, k=110, r=0.05, tau=1, sigma=0.2, nb_simulation=100000, option_type=\"call\"\n",
    ")\n",
    "print(f\"Call price: $ {call_price:.2f} +/- {call_price_std_error:.2f}\")\n",
    "put_price, put_price_std_error = monte_carlo_option_price(\n",
    "    s0=100, k=110, r=0.05, tau=1, sigma=0.2, nb_simulation=100000, option_type=\"put\"\n",
    ")\n",
    "print(f\"Put price: $ {put_price:.2f} +/- {put_price:.2f}\")\n"
   ]
  },
  {
   "cell_type": "code",
   "execution_count": null,
   "metadata": {},
   "outputs": [],
   "source": []
  }
 ],
 "metadata": {
  "kernelspec": {
   "display_name": ".venv",
   "language": "python",
   "name": "python3"
  },
  "language_info": {
   "codemirror_mode": {
    "name": "ipython",
    "version": 3
   },
   "file_extension": ".py",
   "mimetype": "text/x-python",
   "name": "python",
   "nbconvert_exporter": "python",
   "pygments_lexer": "ipython3",
   "version": "3.10.6"
  },
  "orig_nbformat": 4
 },
 "nbformat": 4,
 "nbformat_minor": 2
}
