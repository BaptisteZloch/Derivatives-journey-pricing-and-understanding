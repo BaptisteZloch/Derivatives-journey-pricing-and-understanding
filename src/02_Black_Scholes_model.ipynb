{
 "cells": [
  {
   "attachments": {},
   "cell_type": "markdown",
   "metadata": {},
   "source": [
    "# Assumption\n",
    "## Definitions and demonstrations\n",
    "The price stochastic process is: $$\\frac{dS(t)}{S(t)}=\\mu dt+\\sigma dW^{\\mathbb{P}}(t)$$Where $\\mathbb{P}$ represents real-world measure opposite to $\\mathbb{Q}$ which is the risk-neutral measure.\n",
    "<br>The bank account follows this ODE: $$\\frac{dM(t)}{M(t)}=rdt\\Rightarrow M(t)=M_{t_0}\\times e^{rt}$$\n",
    "\n",
    "We first define $V(t,S(t))$ which represents the value of the option at time $t$. Then we consider a trading strategy under which one holds one option and continuously trade in the stock in order to hold some $\\Delta (t)$ shares. At time $t$ the portfolio value is : $$\\Pi(t,S(t))=V(t,S(t))-\\Delta (t)S(t)$$\n",
    "\n",
    "Since $S(t)$ is stochastic the portfolio is stochastic as well, then the dynamic of our portfolio using the Ito's lemma is: $$d\\Pi=dV-\\Delta dS(t)=r\\Pi dt \\space\\space\\space\\space(1)$$ \n",
    "We need to find $dV$, with Ito's lemma ($dt^2=0, dW(t)^2=dt$) we have: $$dV=\\frac{\\partial V}{\\partial S(t)}dS(t)+\\frac{\\partial V}{\\partial t}dt+\\frac{1}{2}\\frac{\\partial^2 V}{\\partial S(t)^2}dS(t)^2$$\n",
    "\n",
    "We replace by the $dS(t)$ and obtain the following: $$dV=\\biggl( \\mu S(t)\\frac{\\partial V}{\\partial S(t)}+\\frac{\\partial V}{\\partial t}+\\frac{1}{2}\\sigma^2 S(t)^2\\frac{\\partial ^2 V}{\\partial S(t)^2}\\biggl) dt+\\sigma S(t)\\frac{\\partial V}{\\partial S(t)}dW(t)$$ \n",
    "\n",
    "Then we replace in th  $(1)$ equation and obtain the following:\n",
    "$$d\\Pi=\\biggl( \\mu S(t)\\frac{\\partial V}{\\partial S(t)}+\\frac{\\partial V}{\\partial t}+\\frac{1}{2}\\sigma^2 S(t)^2\\frac{\\partial ^2 V}{\\partial S(t)^2}\\biggl) dt+\\sigma S(t)\\frac{\\partial V}{\\partial S(t)}dW(t) -\\Delta(t)(\\mu S(t)dt+\\sigma S(t)dW(t))$$\n",
    "\n",
    "Or we want to hedge the risk (removing the uncertainty), we should set: $$\\Delta(t)=\\frac{\\partial V}{\\partial S(t)}$$\n",
    "\n",
    "Then with $$d\\Pi=r\\Pi dt$$ we further obtain: $$r\\Pi dt = \\biggl( \\mu S(t)\\frac{\\partial V}{\\partial S(t)}+\\frac{\\partial V}{\\partial t}+\\frac{1}{2}\\sigma^2 S(t)^2\\frac{\\partial ^2 V}{\\partial S(t)^2}\\biggl) dt-\\frac{\\partial V}{\\partial S(t)}(\\mu S(t)dt)$$\n",
    "\n",
    "By getting ride of certain terms we have: $$ \\frac{\\partial V}{\\partial t}+\\frac{1}{2}\\sigma^2S^2\\frac{\\partial^2V}{\\partial S^2}-r\\Pi=0$$\n",
    "\n",
    "However with $\\Pi=V-\\frac{\\partial V}{\\partial S}S$ we obtain:$$ \\frac{\\partial V}{\\partial t}+\\frac{1}{2}\\sigma^2S^2\\frac{\\partial^2V}{\\partial S^2}-r\\biggl(V-\\frac{\\partial V}{\\partial S}S \\biggl)=0$$\n",
    "\n",
    "Finally we obtain a parabolic partial differential equation (for European option):$$\\frac{\\partial V}{\\partial t}+\\frac{1}{2}\\sigma^2S^2\\frac{\\partial^2V}{\\partial S^2}+rS\\frac{\\partial V}{\\partial S}-rV=0$$\n",
    "\n",
    "This a differential equation for the $V$ with initial and terminal conditions: $V_{call}(T)=max(S(T)-K,0);V_{put}(T)=max(K-S(T),0)$. The fair value of this an option (risk free) doesn't depend on $\\mu$, **great thing** ! Options are driven by volatility, maturity, ... \n",
    "\n",
    "The initial assumptions are:\n",
    "- The asset price follow a lognormal random walk (GBM).\n",
    "- Interest rete $r$ and volatility $\\sigma$ are known function of $t$.\n",
    "- Transaction cost are not included in the model\n",
    "- No dividend paid during the option's life\n",
    "- No Arbitrage possibilities\n",
    "\n",
    "Remarks:\n",
    "- Risk neutral is forward looking try to extract parameter based on the future value estimation\n",
    "- Real world are based on historical data"
   ]
  },
  {
   "attachments": {},
   "cell_type": "markdown",
   "metadata": {},
   "source": [
    "## Option valuation (pricing)\n",
    "### Definition\n",
    "Pricing : *\"How much should I pay to obtain this right ?\"* or *\"What is the fair value of this financial instrument ?\"*\n",
    "\n",
    "The value of an option is : $$V(S, t, \\sigma, K, T, r) \\space or \\space  V(S,t)$$Where\n",
    "- $S$ and $t$ are independent variables\n",
    "- $\\sigma$ is a parameter associated with the asset price (volatility)\n",
    "- $K$ and $T$ are parameter associated with the particular contract\n",
    "- $r$ is associated with the currency\n",
    "- No $\\mu$ ! \n",
    "\n",
    "Usually $T-t$ is so called the time to maturity and $K$ is called the strike price of an option.\n",
    "\n"
   ]
  },
  {
   "attachments": {},
   "cell_type": "markdown",
   "metadata": {},
   "source": [
    "### Risk neutral valuation\n",
    "A given market is described by these equations:\n",
    "$$\\begin{cases} dM(t)=rM(t)dt\\\\dS(t)=\\mu S(t)dt+\\sigma S(t)dW^{\\mathbb{P}}(t)\\end{cases}$$\n",
    "And a contingent claim (payoff) of the form: $$\\chi=V(S(T),T)$$\n",
    "The arbitrage free price is given via the Ito's Lemma  bu $V(S,t)$, where function $V(S,t) satisfies the Black-Scholes equation: \n",
    "$$\\begin{cases} \\frac{\\partial V}{\\partial t}+rS\\frac{\\partial V}{\\partial S}+\\frac{1}{2}\\sigma^2S^2\\frac{\\partial^2V}{\\partial S^2}-rV=0\\\\V(S,T)=\\chi\\end{cases}$$\n",
    "\n",
    "The aim is to link the monte-carlo simulation and stochastic process with the PDE. To do so we will use the Feynman-Kac formula, that offers a method for solving certain PDEs by simulation random paths of a stochastic process. Suppose we are given PDE:"
   ]
  },
  {
   "attachments": {},
   "cell_type": "markdown",
   "metadata": {},
   "source": [
    "|Input change|Call value|Put value|\n",
    "|:----|:----:|:----:|\n",
    "|Underlying asset price goes up |Goes up|Goes down|\n",
    "|Option strike price goes up |Goes down|Goes up|\n",
    "|Time to expiration increase |Goes up|Goes up|\n",
    "|Volatility in the underlying |Goes up|Goes up|\n",
    "|Interest rates goes up|Goes up|Goes down|\n",
    "|Increases in dividends paids|Goes down|Goes up|\n"
   ]
  },
  {
   "cell_type": "markdown",
   "metadata": {},
   "source": []
  }
 ],
 "metadata": {
  "language_info": {
   "name": "python"
  },
  "orig_nbformat": 4
 },
 "nbformat": 4,
 "nbformat_minor": 2
}
